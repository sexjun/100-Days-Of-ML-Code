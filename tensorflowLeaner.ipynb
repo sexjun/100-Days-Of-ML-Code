{
  "nbformat": 4,
  "nbformat_minor": 0,
  "metadata": {
    "colab": {
      "name": "tensorflowLeaner.ipynb",
      "provenance": [],
      "authorship_tag": "ABX9TyNRYF6yKEvPSXh3m6jhZf3p",
      "include_colab_link": true
    },
    "kernelspec": {
      "name": "python3",
      "display_name": "Python 3"
    },
    "accelerator": "GPU"
  },
  "cells": [
    {
      "cell_type": "markdown",
      "metadata": {
        "id": "view-in-github",
        "colab_type": "text"
      },
      "source": [
        "<a href=\"https://colab.research.google.com/github/sexjun/100-Days-Of-ML-Code/blob/master/tensorflowLeaner.ipynb\" target=\"_parent\"><img src=\"https://colab.research.google.com/assets/colab-badge.svg\" alt=\"Open In Colab\"/></a>"
      ]
    },
    {
      "cell_type": "markdown",
      "metadata": {
        "id": "RMJtvUcKB1YN",
        "colab_type": "text"
      },
      "source": [
        "# 绪论：tensorflow环境搭建\n",
        "- 使用 ` ! code `运行Linux命令"
      ]
    },
    {
      "cell_type": "code",
      "metadata": {
        "id": "Ex97wFWX3MdI",
        "colab_type": "code",
        "colab": {}
      },
      "source": [
        "pip install tensorflow"
      ],
      "execution_count": 0,
      "outputs": []
    },
    {
      "cell_type": "code",
      "metadata": {
        "id": "iFJQMzjT3b4t",
        "colab_type": "code",
        "outputId": "a40c88ac-8de4-452b-8546-a58ee4109ad0",
        "colab": {
          "base_uri": "https://localhost:8080/",
          "height": 34
        }
      },
      "source": [
        "import tensorflow as tf\n",
        "print(tf.__version__)"
      ],
      "execution_count": 0,
      "outputs": [
        {
          "output_type": "stream",
          "text": [
            "2.1.0\n"
          ],
          "name": "stdout"
        }
      ]
    },
    {
      "cell_type": "code",
      "metadata": {
        "id": "qkSVb45b3rPH",
        "colab_type": "code",
        "colab": {}
      },
      "source": [
        "pip install --upgrade tensorflow"
      ],
      "execution_count": 0,
      "outputs": []
    },
    {
      "cell_type": "code",
      "metadata": {
        "id": "-v7nmXU_E_Kv",
        "colab_type": "code",
        "colab": {}
      },
      "source": [
        "import torch\n",
        "print(torch.cuda.is_available())\n",
        "print(torch.rand(2,2)) "
      ],
      "execution_count": 0,
      "outputs": []
    },
    {
      "cell_type": "markdown",
      "metadata": {
        "id": "MjpzrmYyBxx1",
        "colab_type": "text"
      },
      "source": [
        "# 第一章节：tensorflow入门\n",
        "\n"
      ]
    },
    {
      "cell_type": "code",
      "metadata": {
        "id": "_B2yiid1Tl-Q",
        "colab_type": "code",
        "outputId": "a5508ff8-fc60-45ea-b044-c364b22550c8",
        "colab": {
          "base_uri": "https://localhost:8080/",
          "height": 34
        }
      },
      "source": [
        "import tensorflow as tf\n",
        "print(tf.__version__)"
      ],
      "execution_count": 0,
      "outputs": [
        {
          "output_type": "stream",
          "text": [
            "2.1.0\n"
          ],
          "name": "stdout"
        }
      ]
    },
    {
      "cell_type": "markdown",
      "metadata": {
        "id": "zI1ROSsyYtKq",
        "colab_type": "text"
      },
      "source": [
        "- 谷歌官网的英文教程"
      ]
    },
    {
      "cell_type": "code",
      "metadata": {
        "id": "AnrPn6qiT6bI",
        "colab_type": "code",
        "colab": {}
      },
      "source": [
        "from __future__ import absolute_import, division, print_function, unicode_literals\n",
        "\n",
        "# 安装 TensorFlow\n",
        "\n",
        "import tensorflow as tf\n",
        "mnist = tf.keras.datasets.mnist\n",
        "\n",
        "(x_train, y_train), (x_test, y_test) = mnist.load_data()\n",
        "x_train, x_test = x_train / 255.0, x_test / 255.0\n",
        "model = tf.keras.models.Sequential([\n",
        "  tf.keras.layers.Flatten(input_shape=(28, 28)),\n",
        "  tf.keras.layers.Dense(128, activation='relu'),\n",
        "  tf.keras.layers.Dropout(0.2),\n",
        "  tf.keras.layers.Dense(10, activation='softmax')\n",
        "])\n",
        "\n",
        "model.compile(optimizer='adam',\n",
        "              loss='sparse_categorical_crossentropy',\n",
        "              metrics=['accuracy'])\n",
        "model.fit(x_train, y_train, epochs=5)\n",
        "\n",
        "model.evaluate(x_test,  y_test, verbose=2)"
      ],
      "execution_count": 0,
      "outputs": []
    },
    {
      "cell_type": "code",
      "metadata": {
        "id": "aGN30EJue-Vf",
        "colab_type": "code",
        "colab": {}
      },
      "source": [
        ""
      ],
      "execution_count": 0,
      "outputs": []
    },
    {
      "cell_type": "markdown",
      "metadata": {
        "id": "aN_oZ--K53gf",
        "colab_type": "text"
      },
      "source": [
        "# matplotlib\n",
        "- 数据可视化\n",
        "> 模拟了matlab的python库\n",
        "\n",
        "- `axis` 指x/y轴"
      ]
    },
    {
      "cell_type": "code",
      "metadata": {
        "id": "hatYop6q6boy",
        "colab_type": "code",
        "colab": {
          "base_uri": "https://localhost:8080/",
          "height": 265
        },
        "outputId": "864af046-8c37-47d2-a2dc-d6bf9897c036"
      },
      "source": [
        "from matplotlib import pyplot as plt\n",
        "# [2,16) 步长为2\n",
        "x = range(2,26,2)\n",
        "y = [50,2,3,4,5,55,7,8,9,10,11,12]\n",
        "plt.plot(x,y)\n",
        "plt.show()\n",
        "\n"
      ],
      "execution_count": 8,
      "outputs": [
        {
          "output_type": "display_data",
          "data": {
            "image/png": "[encoded data removed]",
            "text/plain": [
              "<Figure size 432x288 with 1 Axes>"
            ]
          },
          "metadata": {
            "tags": []
          }
        }
      ]
    },
    {
      "cell_type": "markdown",
      "metadata": {
        "id": "bWqYefhj96pt",
        "colab_type": "text"
      },
      "source": [
        "\n",
        "- 设置画布大小\n",
        "\n",
        "配置`figure`参数\n",
        "`fig = plt.figure(figsize=(19,3),dpi=11)`\n",
        "\n",
        "- 保存到本地\n",
        "\n",
        "`plt.savefig(\"./name.png\")` 可以保存为 `svg` 这种矢量图形"
      ]
    },
    {
      "cell_type": "code",
      "metadata": {
        "id": "u_AXRKUk72AH",
        "colab_type": "code",
        "colab": {
          "base_uri": "https://localhost:8080/",
          "height": 486
        },
        "outputId": "16fd4eee-b47d-4ddd-be99-ce4cf6319861"
      },
      "source": [
        "from matplotlib import pyplot as plt\n",
        "# 配置画图大小\n",
        "fig = plt.figure(figsize=(50,56),dpi=11)\n",
        "x = range(2,26,2)\n",
        "y = [50,2,3,4,5,55,7,8,9,10,11,12]\n",
        "plt.plot(x,y)\n",
        "# 保存图像\n",
        "plt.savefig(\"./name.png\")\n",
        "plt.show()"
      ],
      "execution_count": 11,
      "outputs": [
        {
          "output_type": "display_data",
          "data": {
            "image/png": "[encoded data removed]",
            "text/plain": [
              "<Figure size 550x616 with 1 Axes>"
            ]
          },
          "metadata": {
            "tags": []
          }
        }
      ]
    },
    {
      "cell_type": "markdown",
      "metadata": {
        "id": "iO-g98Iw_mPD",
        "colab_type": "text"
      },
      "source": [
        "- 坐标刻度/中文显示"
      ]
    },
    {
      "cell_type": "code",
      "metadata": {
        "id": "ACZP0jZg_Ce8",
        "colab_type": "code",
        "colab": {
          "base_uri": "https://localhost:8080/",
          "height": 312
        },
        "outputId": "c1558e97-da37-4dc9-baa9-420b419d86c2"
      },
      "source": [
        "from matplotlib import pyplot as plt\n",
        "import random\n",
        "\n",
        "\n",
        "x = range(120)\n",
        "# 设置随机数种子\n",
        "random.seed(10)\n",
        "y = [random.uniform(20, 35) for i in range(120)] # 120个在20-35之间的随机数赋值给y\n",
        "plt.plot(x, y)\n",
        "plt.xlabel(\"x\")\n",
        "plt.ylabel(\"y\", rotation=90)\n",
        "plt.title(\"title\")\n"
      ],
      "execution_count": 26,
      "outputs": [
        {
          "output_type": "execute_result",
          "data": {
            "text/plain": [
              "Text(0.5, 1.0, 'title')"
            ]
          },
          "metadata": {
            "tags": []
          },
          "execution_count": 26
        },
        {
          "output_type": "display_data",
          "data": {
            "image/png": "[encoded data removed]",
            "text/plain": [
              "<Figure size 432x288 with 1 Axes>"
            ]
          },
          "metadata": {
            "tags": []
          }
        }
      ]
    },
    {
      "cell_type": "markdown",
      "metadata": {
        "id": "qkNlLPdVHJVK",
        "colab_type": "text"
      },
      "source": [
        "- subplot可以在一个窗口绘制不同的图案"
      ]
    },
    {
      "cell_type": "code",
      "metadata": {
        "id": "SS6hrv0DB8E_",
        "colab_type": "code",
        "colab": {
          "base_uri": "https://localhost:8080/",
          "height": 281
        },
        "outputId": "af1fd7b5-e033-4f25-9570-8834d914e336"
      },
      "source": [
        "import numpy as np \n",
        "import matplotlib.pyplot as plt \n",
        "# 计算正弦和余弦曲线上的点的 x 和 y 坐标 \n",
        "x = np.arange(0,  3  * np.pi,  0.1) \n",
        "y_sin = np.sin(x) \n",
        "y_cos = np.cos(x)  \n",
        "# 建立 subplot 网格，高为 2，宽为 1  \n",
        "# 激活第一个 subplot\n",
        "plt.subplot(2,  1,  1)  \n",
        "# 绘制第一个图像 \n",
        "plt.plot(x, y_sin) \n",
        "plt.title('Sine')  \n",
        "# 将第二个 subplot 激活，并绘制第二个图像\n",
        "plt.subplot(2,  1,  2) \n",
        "plt.plot(x, y_cos) \n",
        "plt.title('Cosine')  \n",
        "# 展示图像\n",
        "plt.show()"
      ],
      "execution_count": 25,
      "outputs": [
        {
          "output_type": "display_data",
          "data": {
            "image/png": "[encoded data removed]",
            "text/plain": [
              "<Figure size 432x288 with 2 Axes>"
            ]
          },
          "metadata": {
            "tags": []
          }
        }
      ]
    },
    {
      "cell_type": "markdown",
      "metadata": {
        "id": "JPH5AhhYHwo_",
        "colab_type": "text"
      },
      "source": [
        "- 条形图"
      ]
    },
    {
      "cell_type": "code",
      "metadata": {
        "id": "hxCV5c7THCXL",
        "colab_type": "code",
        "colab": {
          "base_uri": "https://localhost:8080/",
          "height": 295
        },
        "outputId": "a2fe17e8-421f-4312-ec3f-c4e2871de716"
      },
      "source": [
        "from matplotlib import pyplot as plt \n",
        "x =  [5,8,10] \n",
        "y =  [12,16,6] \n",
        "x2 =  [6,9,11] \n",
        "y2 =  [6,15,7] \n",
        "plt.bar(x, y, align =  'center') \n",
        "plt.bar(x2, y2, color =  'g', align =  'center') \n",
        "plt.title('Bar graph') \n",
        "plt.ylabel('Y axis') \n",
        "plt.xlabel('X axis') \n",
        "plt.show()"
      ],
      "execution_count": 31,
      "outputs": [
        {
          "output_type": "display_data",
          "data": {
            "image/png": "[encoded data removed]",
            "text/plain": [
              "<Figure size 432x288 with 1 Axes>"
            ]
          },
          "metadata": {
            "tags": []
          }
        }
      ]
    },
    {
      "cell_type": "markdown",
      "metadata": {
        "id": "s9-W0BGxGYAX",
        "colab_type": "text"
      },
      "source": [
        "## 查找表\n",
        "\n",
        "**线条**\n",
        "```\n",
        "标记maker            描述\n",
        "\n",
        "‘o’                 圆圈  \n",
        "‘.’                 点\n",
        "‘D’                 菱形  \n",
        "‘s’                 正方形\n",
        "‘h’                 六边形1    \n",
        "‘*’                 星号\n",
        "‘H’                 六边形2    \n",
        "‘d’                 小菱形\n",
        "‘_’                 水平线 \n",
        "‘v’                 一角朝下的三角形\n",
        "‘8’                 八边形 \n",
        "‘<’                 一角朝左的三角形\n",
        "‘p’                 五边形 \n",
        "‘>’                 一角朝右的三角形\n",
        "‘,’                 像素  \n",
        "‘^’                 一角朝上的三角形\n",
        "‘+’                 加号  \n",
        "‘\\  ‘               竖线\n",
        "‘None’,’’,’ ‘       无   \n",
        "‘x’                 X\n",
        "```\n",
        "**颜色**\n",
        "```\n",
        "\n",
        "别名             颜色   \n",
        "\n",
        "b               蓝色  \n",
        "g               绿色\n",
        "r               红色  \n",
        "y               黄色\n",
        "c               青色\n",
        "k               黑色   \n",
        "m               洋红色 \n",
        "w               白色\n",
        "```"
      ]
    },
    {
      "cell_type": "markdown",
      "metadata": {
        "id": "FzFqsZQcJiOW",
        "colab_type": "text"
      },
      "source": [
        "## 总结\n",
        "- 画布大小\n",
        "\n",
        "  ```python\n",
        "  # 设置画布大小为50 * 50 ，分辨率为55\n",
        "  plt.figure(figsize=(50,50),dpi=55)\n",
        "  ```\n",
        "\n",
        "- x/y轴标签\n",
        "\n",
        "  ```python\n",
        "  plt.xlabel(\"x轴的标签\")\n",
        "  plt.ylabel(\"y轴的标签\")\n",
        "  plt.title(\"标题\")\n",
        "  ```\n",
        "\n",
        "- 保存\n",
        "\n",
        "  ```python\n",
        "  plo.savefig(\"name.png\")\n",
        "  ```\n",
        "\n",
        "- subplot子图\n",
        "```\n",
        "# 建立 subplot 网格，高为 2，宽为 1  \n",
        "# 激活第一个 subplot\n",
        "plt.subplot(2,  1,  1)  \n",
        "# 绘制第一个图像 \n",
        "plt.plot(x, y_sin) \n",
        "plt.title('Sine')  \n",
        "# 将第二个 subplot 激活，并绘制第二个图像\n",
        "plt.subplot(2,  1,  2) \n",
        "plt.plot(x, y_cos) \n",
        "plt.title('Cosine')  \n",
        "# 展示图像\n",
        "plt.show()\n",
        "```\n",
        "- 柱状图\n",
        "\n",
        "  ```python\n",
        "  from matplotlib import pyplot as plt \n",
        "  x =  [5,8,10] \n",
        "  y =  [12,16,6] \n",
        "  x2 =  [6,9,11] \n",
        "  y2 =  [6,15,7] \n",
        "  # 在横轴x点绘画y的高度\n",
        "  plt.bar(x, y, align =  'center')\n",
        "  # 在横轴x2点处画y2的高度 \n",
        "  plt.bar(x2, y2, color =  'g', align =  'center') \n",
        "  ```"
      ]
    },
    {
      "cell_type": "markdown",
      "metadata": {
        "id": "RsB7hnUtLvrr",
        "colab_type": "text"
      },
      "source": [
        "# Numpy\n",
        "- 数组矩阵运算\n",
        "- 傅里叶/线代/随机数"
      ]
    },
    {
      "cell_type": "markdown",
      "metadata": {
        "id": "eP3tfep4NpMS",
        "colab_type": "text"
      },
      "source": [
        "| 属性             | 说明                                                         |\n",
        "| :--------------- | :----------------------------------------------------------- |\n",
        "| ndarray.ndim     | 秩，即轴的数量或维度的数量                                   |\n",
        "| ndarray.shape    | 数组的维度，对于矩阵，n 行 m 列                              |\n",
        "| ndarray.size     | 数组元素的总个数，相当于 .shape 中 n*m 的值                  |\n",
        "| ndarray.dtype    | ndarray 对象的元素类型                                       |\n",
        "| ndarray.itemsize | ndarray 对象中每个元素的大小，以字节为单位                   |\n",
        "| ndarray.flags    | ndarray 对象的内存信息                                       |\n",
        "| ndarray.real     | ndarray元素的实部                                            |\n",
        "| ndarray.imag     | ndarray 元素的虚部                                           |\n",
        "| ndarray.data     | 包含实际数组元素的缓冲区，由于一般通过数组的索引获取元素，所以通常不需要使用这个属性。 |"
      ]
    },
    {
      "cell_type": "code",
      "metadata": {
        "id": "--r65qvHOCEt",
        "colab_type": "code",
        "colab": {
          "base_uri": "https://localhost:8080/",
          "height": 165
        },
        "outputId": "211de2fa-cbef-4e0f-8af8-2bd30f3e7891"
      },
      "source": [
        "print(\"aa\")"
      ],
      "execution_count": 36,
      "outputs": [
        {
          "output_type": "error",
          "ename": "NameError",
          "evalue": "ignored",
          "traceback": [
            "\u001b[0;31m---------------------------------------------------------------------------\u001b[0m",
            "\u001b[0;31mNameError\u001b[0m                                 Traceback (most recent call last)",
            "\u001b[0;32m<ipython-input-36-54933412a1fe>\u001b[0m in \u001b[0;36m<module>\u001b[0;34m()\u001b[0m\n\u001b[0;32m----> 1\u001b[0;31m \u001b[0mprint\u001b[0m\u001b[0;34m(\u001b[0m\u001b[0maa\u001b[0m\u001b[0;34m)\u001b[0m\u001b[0;34m\u001b[0m\u001b[0;34m\u001b[0m\u001b[0m\n\u001b[0m",
            "\u001b[0;31mNameError\u001b[0m: name 'aa' is not defined"
          ]
        }
      ]
    },
    {
      "cell_type": "code",
      "metadata": {
        "id": "hMzGflkBPw8O",
        "colab_type": "code",
        "colab": {}
      },
      "source": [
        "print(\"b\")"
      ],
      "execution_count": 0,
      "outputs": []
    },
    {
      "cell_type": "code",
      "metadata": {
        "id": "lEVdPDuhP6br",
        "colab_type": "code",
        "colab": {}
      },
      "source": [
        ""
      ],
      "execution_count": 0,
      "outputs": []
    }
  ]
}